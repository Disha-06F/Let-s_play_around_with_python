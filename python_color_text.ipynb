{
 "cells": [
  {
   "cell_type": "markdown",
   "id": "52a2e0dd-8238-431f-ac5f-4c726dbfdb5d",
   "metadata": {},
   "source": [
    "# expython color text "
   ]
  },
  {
   "cell_type": "code",
   "execution_count": 9,
   "id": "81fceb18-bd18-416a-9200-07fbaccbd4f5",
   "metadata": {},
   "outputs": [
    {
     "name": "stdout",
     "output_type": "stream",
     "text": [
      "\u001b[0;31m _   _                           ____  _      _   _         _             \n",
      "| | | | __ _ _ __  _ __  _   _  | __ )(_)_ __| |_| |__   __| | __ _ _   _ \n",
      "| |_| |/ _` | '_ \\| '_ \\| | | | |  _ \\| | '__| __| '_ \\ / _` |/ _` | | | |\n",
      "|  _  | (_| | |_) | |_) | |_| | | |_) | | |  | |_| | | | (_| | (_| | |_| |\n",
      "|_| |_|\\__,_| .__/| .__/ \\__, | |____/|_|_|   \\__|_| |_|\\__,_|\\__,_|\\__, |\n",
      "            |_|   |_|    |___/                                      |___/ \n",
      "     _       _   _ \n",
      "    | | ___ | |_(_)\n",
      " _  | |/ _ \\| __| |\n",
      "| |_| | (_) | |_| |\n",
      " \\___/ \\___/ \\__|_|\n",
      "                   \n",
      "\u001b[0m\n"
     ]
    }
   ],
   "source": [
    "import pyfiglet\n",
    "\n",
    "RED = \"\\033[0;31m\"\n",
    "RESET='\\033[0m'\n",
    "\n",
    "font = pyfiglet.figlet_format('Happy Birthday Joti')\n",
    "print(RED+font+RESET)\n",
    "                        "
   ]
  },
  {
   "cell_type": "code",
   "execution_count": 6,
   "id": "8ffcca00-e5b2-432e-bc07-1a6480ee11eb",
   "metadata": {},
   "outputs": [
    {
     "name": "stdout",
     "output_type": "stream",
     "text": [
      "\u001b[0;34m _   _                           ____  _      _   _         _             \n",
      "| | | | __ _ _ __  _ __  _   _  | __ )(_)_ __| |_| |__   __| | __ _ _   _ \n",
      "| |_| |/ _` | '_ \\| '_ \\| | | | |  _ \\| | '__| __| '_ \\ / _` |/ _` | | | |\n",
      "|  _  | (_| | |_) | |_) | |_| | | |_) | | |  | |_| | | | (_| | (_| | |_| |\n",
      "|_| |_|\\__,_| .__/| .__/ \\__, | |____/|_|_|   \\__|_| |_|\\__,_|\\__,_|\\__, |\n",
      "            |_|   |_|    |___/                                      |___/ \n",
      "     _       _   _ \n",
      "    | | ___ | |_(_)\n",
      " _  | |/ _ \\| __| |\n",
      "| |_| | (_) | |_| |\n",
      " \\___/ \\___/ \\__|_|\n",
      "                   \n",
      "\u001b[0m\n"
     ]
    }
   ],
   "source": [
    "import pyfiglet\n",
    "\n",
    "BLUE = \"\\033[0;34m\"\n",
    "RESET='\\033[0m'\n",
    "\n",
    "font = pyfiglet.figlet_format('Happy Birthday Joti')\n",
    "print(BLUE+font+RESET)\n",
    "                       "
   ]
  },
  {
   "cell_type": "code",
   "execution_count": 5,
   "id": "567f4e84-a71a-4745-907e-5ad9610581f2",
   "metadata": {},
   "outputs": [
    {
     "name": "stdout",
     "output_type": "stream",
     "text": [
      "\u001b[1;35m _   _                           ____  _      _   _         _             \n",
      "| | | | __ _ _ __  _ __  _   _  | __ )(_)_ __| |_| |__   __| | __ _ _   _ \n",
      "| |_| |/ _` | '_ \\| '_ \\| | | | |  _ \\| | '__| __| '_ \\ / _` |/ _` | | | |\n",
      "|  _  | (_| | |_) | |_) | |_| | | |_) | | |  | |_| | | | (_| | (_| | |_| |\n",
      "|_| |_|\\__,_| .__/| .__/ \\__, | |____/|_|_|   \\__|_| |_|\\__,_|\\__,_|\\__, |\n",
      "            |_|   |_|    |___/                                      |___/ \n",
      "     _       _   _ \n",
      "    | | ___ | |_(_)\n",
      " _  | |/ _ \\| __| |\n",
      "| |_| | (_) | |_| |\n",
      " \\___/ \\___/ \\__|_|\n",
      "                   \n",
      "\u001b[0m\n"
     ]
    }
   ],
   "source": [
    "import pyfiglet\n",
    "\n",
    "LIGHT_PURPLE = \"\\033[1;35m\"\n",
    "RESET='\\033[0m'\n",
    "\n",
    "font = pyfiglet.figlet_format('Happy Birthday Joti')\n",
    "print(LIGHT_PURPLE+font+RESET)\n",
    "                    "
   ]
  },
  {
   "cell_type": "code",
   "execution_count": null,
   "id": "1d0b6976-f33c-4ae8-8530-2d78cc6ecb87",
   "metadata": {},
   "outputs": [],
   "source": []
  }
 ],
 "metadata": {
  "kernelspec": {
   "display_name": "Python 3 (ipykernel)",
   "language": "python",
   "name": "python3"
  },
  "language_info": {
   "codemirror_mode": {
    "name": "ipython",
    "version": 3
   },
   "file_extension": ".py",
   "mimetype": "text/x-python",
   "name": "python",
   "nbconvert_exporter": "python",
   "pygments_lexer": "ipython3",
   "version": "3.12.7"
  }
 },
 "nbformat": 4,
 "nbformat_minor": 5
}
